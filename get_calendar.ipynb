{
 "cells": [
  {
   "cell_type": "code",
   "execution_count": 3,
   "metadata": {},
   "outputs": [],
   "source": [
    "from O365 import Account\n",
    "import pandas as pd\n",
    "import datetime as dt\n",
    "\n",
    "credentials = ('296ffada-6cf9-4795-87b7-1213e684022b', '?Zt5hO?]AGImtNQY@Bu20irHukP2uKP@')"
   ]
  },
  {
   "cell_type": "code",
   "execution_count": 4,
   "metadata": {},
   "outputs": [
    {
     "data": {
      "text/plain": [
       "False"
      ]
     },
     "execution_count": 4,
     "metadata": {},
     "output_type": "execute_result"
    }
   ],
   "source": [
    "account = Account(credentials)\n",
    "\n",
    "account.is_authenticated\n",
    "#account.authenticate(scopes=['calendar'])\n",
    "\n",
    "# schedule = account.schedule()\n",
    "\n",
    "# calendar = schedule.get_default_calendar()\n",
    "\n",
    "\n",
    "\n",
    "# q = calendar.new_query('start').greater_equal(dt.datetime(2020, 4, 21))\n",
    "# q.chain('and').on_attribute('end').less_equal(dt.datetime(2021, 5, 24))\n",
    "\n",
    "# #calendar.get_events(query = q,limit = 999)\n",
    "\n",
    "# events = []\n",
    "# for event in calendar.get_events(query = q,limit = 999):\n",
    "#     if (~event.is_all_day) & (~event.is_cancelled):\n",
    "#         events.append ({'start': event.start.strftime(\"%Y/%m/%d %H:%M:%S\"),\n",
    "#          'end': event.end.strftime(\"%Y/%m/%d %H:%M:%S\")})\n",
    "        \n",
    "\n",
    "# pd.DataFrame (events)\n",
    "\n"
   ]
  },
  {
   "cell_type": "code",
   "execution_count": 23,
   "metadata": {},
   "outputs": [],
   "source": [
    "url, state = account.con.get_authorization_url(requested_scopes = ['Calendars.Read'])"
   ]
  },
  {
   "cell_type": "code",
   "execution_count": 24,
   "metadata": {},
   "outputs": [
    {
     "data": {
      "text/plain": [
       "'https://login.microsoftonline.com/common/oauth2/v2.0/authorize?response_type=code&client_id=296ffada-6cf9-4795-87b7-1213e684022b&redirect_uri=https%3A%2F%2Flogin.microsoftonline.com%2Fcommon%2Foauth2%2Fnativeclient&scope=Calendars.Read&state=1qGhRYjLdRfmOCBNdS2fTDtZZ2hIRt&access_type=offline'"
      ]
     },
     "execution_count": 24,
     "metadata": {},
     "output_type": "execute_result"
    }
   ],
   "source": [
    "url"
   ]
  },
  {
   "cell_type": "code",
   "execution_count": 25,
   "metadata": {},
   "outputs": [],
   "source": [
    "req_url = \"https://login.microsoftonline.com/common/oauth2/nativeclient?code=OAQABAAIAAAAm-06blBE1TpVMil8KPQ415jKTRuKnBDcCVbTyBNXl5X4_2ndn809HSZqvRGy4Re28chhP1rCvDebQn2XiIbZ2nDL8r8nxUYP3GoK_Gs3F22S5u5NGhfrj2HBI_XvN4G29ZZSWfO4Xe_UqAkfTV5EvUPd3vhN-umpnyukBvopucUJHJk8TfrYUgS0W7O3pS96wNa7GQ-47ysYQJrZzXzagOYopuS2pJW-FcgpuKn1Nw--9W6uOCcMUPypCKhRtSvRNeBKAI-mq2YbfugBJzJiblku5zS0DkwG5xejZKJ7QWN31_WS4PNLj93bK7bQDr1S2boxFu3y4uVA8rFqHTGpWeqqEpyeL8w62_0Mq-R3HTWLORmhYzbYjQn-LPLk1sqjpr9B5q-khsTOpHwEQgSdSzRBBdWQb_A_g7R8Fvxl1d53x9SHbxdTfUqerO9nO5Koe6_J3A8Aj3Dx64xaU6a0fLF4whSgAI_TBsB0XsEri910mKvcQlRIMnDznLH7y26P03t2a9fRFsu5dlE6QBVhE2aO2zGBNtX1HDkWOoJuzz8rrRkZwIdLi_QqdyATn58wUEuMin6gS9XP1POmBE9CS49a34INQy7xlbA7S7tAq2WTtXXmyl-Tb6mtzZf7Nj2zvbCnUdKXGTmJLadkYe-nxIAA&state=1qGhRYjLdRfmOCBNdS2fTDtZZ2hIRt&session_state=81b129e1-84af-40c5-b38b-941f66a49807\"\n"
   ]
  },
  {
   "cell_type": "code",
   "execution_count": 26,
   "metadata": {},
   "outputs": [],
   "source": [
    "result = account.con.request_token(req_url, \n",
    "                                   state=state)"
   ]
  },
  {
   "cell_type": "code",
   "execution_count": null,
   "metadata": {},
   "outputs": [],
   "source": [
    "result"
   ]
  },
  {
   "cell_type": "code",
   "execution_count": 27,
   "metadata": {},
   "outputs": [],
   "source": [
    "schedule = account.schedule()"
   ]
  },
  {
   "cell_type": "code",
   "execution_count": 28,
   "metadata": {},
   "outputs": [],
   "source": [
    "calendar = schedule.get_default_calendar()"
   ]
  },
  {
   "cell_type": "code",
   "execution_count": 29,
   "metadata": {},
   "outputs": [
    {
     "data": {
      "text/html": [
       "<div>\n",
       "<style scoped>\n",
       "    .dataframe tbody tr th:only-of-type {\n",
       "        vertical-align: middle;\n",
       "    }\n",
       "\n",
       "    .dataframe tbody tr th {\n",
       "        vertical-align: top;\n",
       "    }\n",
       "\n",
       "    .dataframe thead th {\n",
       "        text-align: right;\n",
       "    }\n",
       "</style>\n",
       "<table border=\"1\" class=\"dataframe\">\n",
       "  <thead>\n",
       "    <tr style=\"text-align: right;\">\n",
       "      <th></th>\n",
       "      <th>start</th>\n",
       "      <th>end</th>\n",
       "    </tr>\n",
       "  </thead>\n",
       "  <tbody>\n",
       "    <tr>\n",
       "      <th>0</th>\n",
       "      <td>2020/04/20 01:00:00</td>\n",
       "      <td>2020/04/21 01:00:00</td>\n",
       "    </tr>\n",
       "    <tr>\n",
       "      <th>1</th>\n",
       "      <td>2020/04/21 10:30:00</td>\n",
       "      <td>2020/04/21 11:30:00</td>\n",
       "    </tr>\n",
       "    <tr>\n",
       "      <th>2</th>\n",
       "      <td>2020/04/21 11:30:00</td>\n",
       "      <td>2020/04/21 12:30:00</td>\n",
       "    </tr>\n",
       "    <tr>\n",
       "      <th>3</th>\n",
       "      <td>2020/04/21 13:30:00</td>\n",
       "      <td>2020/04/21 14:00:00</td>\n",
       "    </tr>\n",
       "    <tr>\n",
       "      <th>4</th>\n",
       "      <td>2020/04/21 18:30:00</td>\n",
       "      <td>2020/04/21 19:30:00</td>\n",
       "    </tr>\n",
       "    <tr>\n",
       "      <th>...</th>\n",
       "      <td>...</td>\n",
       "      <td>...</td>\n",
       "    </tr>\n",
       "    <tr>\n",
       "      <th>318</th>\n",
       "      <td>2021/03/15 10:00:00</td>\n",
       "      <td>2021/03/15 10:30:00</td>\n",
       "    </tr>\n",
       "    <tr>\n",
       "      <th>319</th>\n",
       "      <td>2021/03/29 10:00:00</td>\n",
       "      <td>2021/03/29 10:30:00</td>\n",
       "    </tr>\n",
       "    <tr>\n",
       "      <th>320</th>\n",
       "      <td>2021/04/12 10:00:00</td>\n",
       "      <td>2021/04/12 10:30:00</td>\n",
       "    </tr>\n",
       "    <tr>\n",
       "      <th>321</th>\n",
       "      <td>2021/04/26 10:00:00</td>\n",
       "      <td>2021/04/26 10:30:00</td>\n",
       "    </tr>\n",
       "    <tr>\n",
       "      <th>322</th>\n",
       "      <td>2021/05/10 10:00:00</td>\n",
       "      <td>2021/05/10 10:30:00</td>\n",
       "    </tr>\n",
       "  </tbody>\n",
       "</table>\n",
       "<p>323 rows × 2 columns</p>\n",
       "</div>"
      ],
      "text/plain": [
       "                   start                  end\n",
       "0    2020/04/20 01:00:00  2020/04/21 01:00:00\n",
       "1    2020/04/21 10:30:00  2020/04/21 11:30:00\n",
       "2    2020/04/21 11:30:00  2020/04/21 12:30:00\n",
       "3    2020/04/21 13:30:00  2020/04/21 14:00:00\n",
       "4    2020/04/21 18:30:00  2020/04/21 19:30:00\n",
       "..                   ...                  ...\n",
       "318  2021/03/15 10:00:00  2021/03/15 10:30:00\n",
       "319  2021/03/29 10:00:00  2021/03/29 10:30:00\n",
       "320  2021/04/12 10:00:00  2021/04/12 10:30:00\n",
       "321  2021/04/26 10:00:00  2021/04/26 10:30:00\n",
       "322  2021/05/10 10:00:00  2021/05/10 10:30:00\n",
       "\n",
       "[323 rows x 2 columns]"
      ]
     },
     "execution_count": 29,
     "metadata": {},
     "output_type": "execute_result"
    }
   ],
   "source": [
    "q = calendar.new_query('start').greater_equal(dt.datetime(2020, 4, 21))\n",
    "q.chain('and').on_attribute('end').less_equal(dt.datetime(2021, 5, 24))\n",
    "\n",
    "#calendar.get_events(query = q,limit = 999)\n",
    "\n",
    "events = []\n",
    "for event in calendar.get_events(query = q,limit = 999):\n",
    "    if (~event.is_all_day) & (~event.is_cancelled):\n",
    "        events.append ({'start': event.start.strftime(\"%Y/%m/%d %H:%M:%S\"),\n",
    "         'end': event.end.strftime(\"%Y/%m/%d %H:%M:%S\")})\n",
    "        \n",
    "\n",
    "pd.DataFrame (events)\n"
   ]
  },
  {
   "cell_type": "code",
   "execution_count": null,
   "metadata": {},
   "outputs": [],
   "source": []
  }
 ],
 "metadata": {
  "kernelspec": {
   "display_name": "shiny_time",
   "language": "python",
   "name": "shiny_time"
  },
  "language_info": {
   "codemirror_mode": {
    "name": "ipython",
    "version": 3
   },
   "file_extension": ".py",
   "mimetype": "text/x-python",
   "name": "python",
   "nbconvert_exporter": "python",
   "pygments_lexer": "ipython3",
   "version": "3.7.6"
  }
 },
 "nbformat": 4,
 "nbformat_minor": 4
}
