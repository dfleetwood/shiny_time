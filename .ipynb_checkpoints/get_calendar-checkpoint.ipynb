{
 "cells": [
  {
   "cell_type": "code",
   "execution_count": 44,
   "metadata": {},
   "outputs": [],
   "source": [
    "from O365 import Account\n",
    "import pandas as pd\n",
    "import datetime as dt\n",
    "credentials = ('296ffada-6cf9-4795-87b7-1213e684022b', '?Zt5hO?]AGImtNQY@Bu20irHukP2uKP@')"
   ]
  },
  {
   "cell_type": "code",
   "execution_count": 2,
   "metadata": {},
   "outputs": [],
   "source": [
    "account = Account(credentials)"
   ]
  },
  {
   "cell_type": "code",
   "execution_count": 3,
   "metadata": {},
   "outputs": [
    {
     "name": "stdout",
     "output_type": "stream",
     "text": [
      "Visit the following url to give consent:\n",
      "https://login.microsoftonline.com/common/oauth2/v2.0/authorize?response_type=code&client_id=296ffada-6cf9-4795-87b7-1213e684022b&redirect_uri=https%3A%2F%2Flogin.microsoftonline.com%2Fcommon%2Foauth2%2Fnativeclient&scope=https%3A%2F%2Fgraph.microsoft.com%2FCalendars.Read&state=0BZuOXVvkK7dLxrAebEE3j6qcYlRFn&access_type=offline\n",
      "Paste the authenticated url here:\n",
      "https://login.microsoftonline.com/common/oauth2/nativeclient?code=OAQABAAIAAAAm-06blBE1TpVMil8KPQ41clZi8VFdFjptwbsrFDC0gN-AiRVkXqRkwB17raNaQ_ywlFeGMNdL2pgxYzU8ac_sSl1j26-QufLMJMRUtZpo0PSVlBv8yyyvVoIhSQ-RIY-pwbsFJ1CAFH8FP8JfIRYiCTLK0zbJCtrqdqJQKhAMFn1pFPtGq5gjmqLyfeMZR0t8L4997n_4-uIIlIGtaZw1m47xOqkC8B3MHoonOKjMY7knWckP7DYzDRN7YvDRSPfRIXS5DdZ4Y31PuiOhr9CT_9sLhLUMFXgOWo-ToQWn7sT9MNdQTm5E3526UXAmee4E25zieevROZXS-C0OyeHCZ2n6PhQEGI_PbYPqAtX2pvAKbRic-2drPbxkhyRGMwLcyHl_-FnTVAt1QTmugGputMvBvDIhl5h0B6uEg7i29Yo64dMH5xwJoJGawb9BLK-oFKXL1njbPEO-f2zFFHKshMl1wZ8UKmuLpctlght40iu6bSw83olaW9ZNjX7DIaP4NyBx38HLC0dE5BN5jZtXOdoHltVO4cWeggqu5bUtwPhG_RFKOeLP3oN6SjnB4zd7DxZC8Lx3HrapwEQhvdMvO8BPVSyJ7CRR-JYpEIum4bOWf-xZCNtAwQtEIY2tLuzmwevmcfUEIumG7_r8-1W8IAA&state=0BZuOXVvkK7dLxrAebEE3j6qcYlRFn&session_state=81b129e1-84af-40c5-b38b-941f66a49807\n",
      "Authentication Flow Completed. Oauth Access Token Stored. You can now use the API.\n"
     ]
    },
    {
     "data": {
      "text/plain": [
       "True"
      ]
     },
     "execution_count": 3,
     "metadata": {},
     "output_type": "execute_result"
    }
   ],
   "source": [
    "account.authenticate(scopes=['calendar'])"
   ]
  },
  {
   "cell_type": "code",
   "execution_count": 8,
   "metadata": {},
   "outputs": [],
   "source": [
    "schedule = account.schedule()\n",
    "\n",
    "calendar = schedule.get_default_calendar()"
   ]
  },
  {
   "cell_type": "code",
   "execution_count": 11,
   "metadata": {},
   "outputs": [],
   "source": []
  },
  {
   "cell_type": "code",
   "execution_count": 39,
   "metadata": {},
   "outputs": [
    {
     "data": {
      "text/plain": [
       "Filter: start/dateTime ge '2020-04-20T23:00:00+00:00' and end/dateTime le '2021-05-23T23:00:00+00:00'\n",
       "Order: None\n",
       "Select: None\n",
       "Expand: None\n",
       "Search: None"
      ]
     },
     "execution_count": 39,
     "metadata": {},
     "output_type": "execute_result"
    }
   ],
   "source": [
    "q = calendar.new_query('start').greater_equal(dt.datetime(2020, 4, 21))\n",
    "q.chain('and').on_attribute('end').less_equal(dt.datetime(2021, 5, 24))"
   ]
  },
  {
   "cell_type": "code",
   "execution_count": 40,
   "metadata": {},
   "outputs": [],
   "source": [
    "#calendar.get_events(query = q,limit = 999)"
   ]
  },
  {
   "cell_type": "code",
   "execution_count": 41,
   "metadata": {},
   "outputs": [],
   "source": [
    "events = []\n",
    "for event in calendar.get_events(query = q,limit = 999):\n",
    "    if (~event.is_all_day) & (~event.is_cancelled):\n",
    "        events.append ({'start': event.start.strftime(\"%Y/%m/%d %H:%M:%S\"),\n",
    "         'end': event.end.strftime(\"%Y/%m/%d %H:%M:%S\")})\n",
    "        "
   ]
  },
  {
   "cell_type": "code",
   "execution_count": 43,
   "metadata": {},
   "outputs": [
    {
     "ename": "NameError",
     "evalue": "name 'pd' is not defined",
     "output_type": "error",
     "traceback": [
      "\u001b[1;31m---------------------------------------------------------------------------\u001b[0m",
      "\u001b[1;31mNameError\u001b[0m                                 Traceback (most recent call last)",
      "\u001b[1;32m<ipython-input-43-1f5187ee139c>\u001b[0m in \u001b[0;36m<module>\u001b[1;34m\u001b[0m\n\u001b[1;32m----> 1\u001b[1;33m \u001b[0mpd\u001b[0m\u001b[1;33m.\u001b[0m\u001b[0mDataFrame\u001b[0m \u001b[1;33m(\u001b[0m\u001b[0mevents\u001b[0m\u001b[1;33m)\u001b[0m\u001b[1;33m\u001b[0m\u001b[1;33m\u001b[0m\u001b[0m\n\u001b[0m",
      "\u001b[1;31mNameError\u001b[0m: name 'pd' is not defined"
     ]
    }
   ],
   "source": [
    "pd.DataFrame (events)"
   ]
  },
  {
   "cell_type": "code",
   "execution_count": 26,
   "metadata": {},
   "outputs": [
    {
     "data": {
      "text/plain": [
       "datetime.datetime(2020, 4, 23, 16, 30, tzinfo=<DstTzInfo 'Europe/London' BST+1:00:00 DST>)"
      ]
     },
     "execution_count": 26,
     "metadata": {},
     "output_type": "execute_result"
    }
   ],
   "source": [
    "a.is_cancelled"
   ]
  },
  {
   "cell_type": "code",
   "execution_count": 7,
   "metadata": {},
   "outputs": [
    {
     "ename": "RuntimeError",
     "evalue": "Provide one of the options",
     "output_type": "error",
     "traceback": [
      "\u001b[1;31m---------------------------------------------------------------------------\u001b[0m",
      "\u001b[1;31mRuntimeError\u001b[0m                              Traceback (most recent call last)",
      "\u001b[1;32m<ipython-input-7-a1c6e001b071>\u001b[0m in \u001b[0;36m<module>\u001b[1;34m\u001b[0m\n\u001b[1;32m----> 1\u001b[1;33m \u001b[0ma\u001b[0m\u001b[1;33m.\u001b[0m\u001b[0mget_calendar\u001b[0m\u001b[1;33m(\u001b[0m\u001b[1;33m)\u001b[0m\u001b[1;33m\u001b[0m\u001b[1;33m\u001b[0m\u001b[0m\n\u001b[0m",
      "\u001b[1;32m~\\AppData\\Local\\conda\\conda\\envs\\shiny_time\\lib\\site-packages\\O365\\calendar.py\u001b[0m in \u001b[0;36mget_calendar\u001b[1;34m(self, calendar_id, calendar_name)\u001b[0m\n\u001b[0;32m   1848\u001b[0m \u001b[1;33m\u001b[0m\u001b[0m\n\u001b[0;32m   1849\u001b[0m         \u001b[1;32mif\u001b[0m \u001b[1;32mnot\u001b[0m \u001b[0mcalendar_id\u001b[0m \u001b[1;32mand\u001b[0m \u001b[1;32mnot\u001b[0m \u001b[0mcalendar_name\u001b[0m\u001b[1;33m:\u001b[0m\u001b[1;33m\u001b[0m\u001b[1;33m\u001b[0m\u001b[0m\n\u001b[1;32m-> 1850\u001b[1;33m             \u001b[1;32mraise\u001b[0m \u001b[0mRuntimeError\u001b[0m\u001b[1;33m(\u001b[0m\u001b[1;34m'Provide one of the options'\u001b[0m\u001b[1;33m)\u001b[0m\u001b[1;33m\u001b[0m\u001b[1;33m\u001b[0m\u001b[0m\n\u001b[0m\u001b[0;32m   1851\u001b[0m \u001b[1;33m\u001b[0m\u001b[0m\n\u001b[0;32m   1852\u001b[0m         \u001b[1;32mif\u001b[0m \u001b[0mcalendar_id\u001b[0m\u001b[1;33m:\u001b[0m\u001b[1;33m\u001b[0m\u001b[1;33m\u001b[0m\u001b[0m\n",
      "\u001b[1;31mRuntimeError\u001b[0m: Provide one of the options"
     ]
    }
   ],
   "source": [
    "a.get_calendar()"
   ]
  },
  {
   "cell_type": "code",
   "execution_count": null,
   "metadata": {},
   "outputs": [],
   "source": []
  }
 ],
 "metadata": {
  "kernelspec": {
   "display_name": "shiny_time",
   "language": "python",
   "name": "shiny_time"
  },
  "language_info": {
   "codemirror_mode": {
    "name": "ipython",
    "version": 3
   },
   "file_extension": ".py",
   "mimetype": "text/x-python",
   "name": "python",
   "nbconvert_exporter": "python",
   "pygments_lexer": "ipython3",
   "version": "3.7.6"
  }
 },
 "nbformat": 4,
 "nbformat_minor": 4
}
